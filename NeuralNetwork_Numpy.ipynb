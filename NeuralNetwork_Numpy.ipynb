{
  "nbformat": 4,
  "nbformat_minor": 0,
  "metadata": {
    "colab": {
      "name": "Task1.ipynb",
      "provenance": []
    },
    "kernelspec": {
      "name": "python3",
      "display_name": "Python 3"
    },
    "language_info": {
      "name": "python"
    }
  },
  "cells": [
    {
      "cell_type": "markdown",
      "metadata": {
        "id": "02j4HL3qa2qM"
      },
      "source": [
        "# ***Import Libaries***"
      ]
    },
    {
      "cell_type": "code",
      "metadata": {
        "id": "hEIRiI_Sasjo"
      },
      "source": [
        "# Include libraries which may use in implementation\n",
        "import numpy as np\n",
        "import random\n",
        "import matplotlib.pyplot as plt\n",
        "%matplotlib inline\n",
        "from sklearn.model_selection import train_test_split\n",
        "import pickle"
      ],
      "execution_count": 23,
      "outputs": []
    },
    {
      "cell_type": "markdown",
      "metadata": {
        "id": "a4yUJDGSbCug"
      },
      "source": [
        "## ***Generating Random Data***"
      ]
    },
    {
      "cell_type": "code",
      "metadata": {
        "colab": {
          "base_uri": "https://localhost:8080/",
          "height": 432
        },
        "id": "wNIXsZo1a8SM",
        "outputId": "ee6d931f-3833-4629-89f5-c3e795f001c7"
      },
      "source": [
        "import matplotlib.pyplot as plt\n",
        "# generating dataset point\n",
        "np.random.seed(1)\n",
        "no_of_samples = 2000\n",
        "dims = 2\n",
        "#Generating random points of values between 0 to 1\n",
        "class1=np.random.rand(no_of_samples,dims)\n",
        "#To add separability we will add a bias of 1.1\n",
        "class2=np.random.rand(no_of_samples,dims)+1.1\n",
        "class_1_label=np.array([1 for n in range(no_of_samples)])\n",
        "class_2_label=np.array([0 for n in range(no_of_samples)])\n",
        "#Lets visualize the dataset\n",
        "plt.scatter(class1[:,0],class1[:,1], marker='^', label=\"class 1\")\n",
        "plt.scatter(class2[:,0],class2[:,1], marker='o', label=\"class 2\")\n",
        "plt.xlabel('Dimension 1')\n",
        "plt.ylabel('Dimension 2')\n",
        "plt.legend(loc='best')\n",
        "plt.show()\n",
        "\n",
        "print(class1.shape, class_1_label.shape)\n",
        "\n",
        "# Data concatenation\n",
        "data = np.concatenate((class1,class2),axis=0)\n",
        "label = np.concatenate((class_1_label,class_2_label),axis=0)\n",
        "print(data.shape, label.shape)\n",
        "print(data)"
      ],
      "execution_count": 24,
      "outputs": [
        {
          "output_type": "display_data",
          "data": {
            "image/png": "[encoded data removed]",
            "text/plain": [
              "<Figure size 432x288 with 1 Axes>"
            ]
          },
          "metadata": {
            "tags": [],
            "needs_background": "light"
          }
        },
        {
          "output_type": "stream",
          "text": [
            "(2000, 2) (2000,)\n",
            "(4000, 2) (4000,)\n",
            "[[4.17022005e-01 7.20324493e-01]\n",
            " [1.14374817e-04 3.02332573e-01]\n",
            " [1.46755891e-01 9.23385948e-02]\n",
            " ...\n",
            " [1.66553406e+00 1.36890296e+00]\n",
            " [1.57935520e+00 1.77465879e+00]\n",
            " [1.78423073e+00 1.92139131e+00]]\n"
          ],
          "name": "stdout"
        }
      ]
    },
    {
      "cell_type": "markdown",
      "metadata": {
        "id": "VNaPUNVabM8n"
      },
      "source": [
        "## ***Activation Functions***"
      ]
    },
    {
      "cell_type": "code",
      "metadata": {
        "id": "douuiwXsbHOi"
      },
      "source": [
        "######################################### Loss Function #####################################\n",
        "\n",
        "def Cross_Entropy(Y_hat, Y):\n",
        "    Y = Y.reshape(-1,1)\n",
        "    loss = - (1/len(Y)) * ( np.sum( np.multiply(np.log(Y_hat),Y) ) + np.sum( np.multiply(np.log(1-Y_hat),(1-Y)) ) )\n",
        "    return loss\n",
        "\n",
        "######################################## Activation Functions ###################################\n",
        "\n",
        "def sigmoid(z):\n",
        "    return 1 / (1 + np.exp(-z))\n",
        "\n",
        "def derivative_sigmoid(x):\n",
        "    return x*(1-x)\n",
        "\n",
        "def softmax(x):\n",
        "    return np.exp(x) / np.sum(np.exp(x))\n",
        "\n",
        "######################################## Accuracy Function ##########################################\n",
        "\n",
        "def accuracy(Y_hat,Y):\n",
        "    Y = Y.reshape(-1,1)\n",
        "    return np.sum(Y_hat==Y)/len(Y)\n",
        "\n",
        "####################################### Save Model Function ###########################################\n",
        "\n",
        "def save_model(weights, path):\n",
        "    File = open(path, 'wb')\n",
        "    pickle.dump(weights, File)\n",
        "    File.close()\n",
        "\n",
        "######################################## Load Model Function ############################################\n",
        "\n",
        "def load_model(path):\n",
        "    model = open(path, 'rb')\n",
        "    weights = pickle.load(model)\n",
        "    return weights\n"
      ],
      "execution_count": 25,
      "outputs": []
    },
    {
      "cell_type": "markdown",
      "metadata": {
        "id": "MjaK91a7bxDp"
      },
      "source": [
        "## ***Data Loader***"
      ]
    },
    {
      "cell_type": "code",
      "metadata": {
        "id": "gNmj3spebqDh"
      },
      "source": [
        "####################################### Data Loader #################################   \n",
        "\n",
        "def load_data(data, label):\n",
        "\n",
        "    x_train, x_test, y_train, y_test = train_test_split(data, label, test_size=0.3)\n",
        "    x1_train, x_val, y1_train, y_val = train_test_split(x_train, y_train, test_size=0.2)\n",
        "    # print(\"Train Set = \", x_train.shape)\n",
        "    # print(\"Train Label = \", y_train.shape)\n",
        "    # print(\"Val Set :\", x_val.shape)\n",
        "    # print(\"Val Label :\", y_val.shape)\n",
        "    # print(\"Test Set :\", x_test.shape)\n",
        "    # print(\"Test Label :\", y_test.shape)\n",
        "    return x_val, y_val, x_test, y_test\n",
        "    "
      ],
      "execution_count": 26,
      "outputs": []
    },
    {
      "cell_type": "markdown",
      "metadata": {
        "id": "80_kf6Vob4pu"
      },
      "source": [
        "# ***Weights Initialization***"
      ]
    },
    {
      "cell_type": "code",
      "metadata": {
        "id": "lgRslYMpb1EI"
      },
      "source": [
        "def initialize_weights(input_size, outputsize, no_of_neurons):\n",
        "\n",
        "    w = []\n",
        "\n",
        "    w_in = np.random.randn(input_size + 1, no_of_neurons[0])\n",
        "    w.append(w_in)\n",
        "    # print(w_in.shape)\n",
        "    # print(w1.shape)\n",
        "    for i in range(len(no_of_neurons)-1): \n",
        "        weights = np.random.randn(no_of_neurons[i] + 1, no_of_neurons[i+1])\n",
        "        w.append(weights)\n",
        "        # print(weights.shape)\n",
        "    w_out = np.random.randn(no_of_neurons[len(no_of_neurons)-1]+1, output_size)\n",
        "    w.append(w_out)\n",
        "    # print(w_out.shape)\n",
        "    \n",
        "    return w"
      ],
      "execution_count": 27,
      "outputs": []
    },
    {
      "cell_type": "markdown",
      "metadata": {
        "id": "Bru2OvLacEhT"
      },
      "source": [
        "## **Feed Forward**"
      ]
    },
    {
      "cell_type": "code",
      "metadata": {
        "id": "HURMzj-vcDjR"
      },
      "source": [
        "def forward(w, input):\n",
        "    list_A = []\n",
        "    input = np.concatenate( (input, np.ones((len(input), 1))), axis=1)\n",
        "    for j in range(len(w)):\n",
        "        if j == 0:\n",
        "            z = np.dot(w[j].T, input.T) # 3x100\n",
        "            a = sigmoid(z).T # 100x3\n",
        "            a = np.concatenate( (a, np.ones((len(a), 1))), axis=1) # 100x4\n",
        "            # print(\"a\"+str(j)+\" shape:\", a.shape)\n",
        "            # print(\"a\"+ str(j) +\"\\n\", a)\n",
        "            list_A.append(a)\n",
        "        elif (j < len(w)-1):\n",
        "            z = np.dot(w[j].T, list_A[-1].T) # 5x100\n",
        "            a = sigmoid(z).T # 100x3\n",
        "            a = np.concatenate( (a, np.ones((len(a), 1))), axis=1) # 100x4\n",
        "            # print(\"a\"+str(j)+\" shape:\", a.shape)\n",
        "            # print(\"a\"+ str(j) +\"\\n\", a)\n",
        "            list_A.append(a)\n",
        "        else:\n",
        "            z = np.dot(w[-1].T, list_A[-1].T) # 1x100\n",
        "            a = sigmoid(z).T # \n",
        "            # print(\"a\"+str(j)+\" shape:\", a.shape)\n",
        "            # print(\"a\"+ str(j) +\"\\n\", a)\n",
        "            list_A.append(a)\n",
        "    return list_A\n",
        "    "
      ],
      "execution_count": 28,
      "outputs": []
    },
    {
      "cell_type": "markdown",
      "metadata": {
        "id": "KAgxVr3ocPbs"
      },
      "source": [
        "## ***Back Propagation***"
      ]
    },
    {
      "cell_type": "code",
      "metadata": {
        "id": "ETJFGzHUcI1U"
      },
      "source": [
        "def back_propagate(A, y, w, input):\n",
        "    input = np.concatenate( (input, np.ones((len(input), 1))), axis=1)\n",
        "    out = A[-1]\n",
        "    A = A[:-1]\n",
        "    change_in_weights = []\n",
        "\n",
        "    dL = np.multiply( out - y.reshape(-1,1), derivative_sigmoid(out) ) # 100x1\n",
        "    dwL = np.dot(A[-1].T, dL) # 8x1\n",
        "    # print(\"\\ndwL\\n\", dwL.shape)\n",
        "    change_in_weights.append(dwL)\n",
        "\n",
        "    for i in reversed( range(len(A)) ):\n",
        "        # term1 = np.dot(w[i+2],dL) #8x1\n",
        "        if i > 0:\n",
        "            dL = np.multiply( np.dot(w[i+1], dL.T), derivative_sigmoid(A[i]).T ) #8x100\n",
        "            dL = dL[:-1,:].T # 100x7\n",
        "            dw = np.dot(A[i-1].T, dL) #6x7\n",
        "            # print(\"\\ndw\"+ str(i) + \"\\n\", dw.shape)\n",
        "            change_in_weights.append(dw)\n",
        "        else:\n",
        "            dL = np.multiply( np.dot(w[i+1], dL.T), derivative_sigmoid(A[i]).T ) #4x100\n",
        "            dL = dL[:-1,:].T # 100x3\n",
        "            dw = np.dot(input.T, dL) #3x3\n",
        "            # print(\"\\ndw\"+ str(i) + \"\\n\", dw.shape)\n",
        "            change_in_weights.append(dw)\n",
        "\n",
        "    return change_in_weights \n",
        "    "
      ],
      "execution_count": 29,
      "outputs": []
    },
    {
      "cell_type": "markdown",
      "metadata": {
        "id": "KARKt836cY6V"
      },
      "source": [
        "## **Updating Weights**"
      ]
    },
    {
      "cell_type": "code",
      "metadata": {
        "id": "Fd50YMx0cXX_"
      },
      "source": [
        "def update_w(w, dw, lr):\n",
        "\n",
        "    dw.reverse()\n",
        "\n",
        "    for i in range(len(w)):\n",
        "        #print(\"w:\\n\",w[i])\n",
        "        #print(\"dw:\\n\", dw[i])\n",
        "        w[i]  = w[i] - ( lr * dw[i] )\n",
        "\n",
        "    return w\n",
        "    "
      ],
      "execution_count": 30,
      "outputs": []
    },
    {
      "cell_type": "markdown",
      "metadata": {
        "id": "3jRUuLHBciju"
      },
      "source": [
        "## **Evaluate Model**"
      ]
    },
    {
      "cell_type": "code",
      "metadata": {
        "id": "KdgAe426chH6"
      },
      "source": [
        "def evaluate_model(model_weights, data, labels):\n",
        "    labels = labels.reshape(-1,1)\n",
        "    A = forward(model_weights, data)\n",
        "    pred = A[-1]    \n",
        "    loss = Cross_Entropy(pred, labels)\n",
        "    pred[pred>=0.5] = 1\n",
        "    pred[pred<0.5] = 0\n",
        "    acc = accuracy(pred, labels)\n",
        "    \n",
        "    return loss, acc\n",
        "    "
      ],
      "execution_count": 31,
      "outputs": []
    },
    {
      "cell_type": "markdown",
      "metadata": {
        "id": "KjLQSloJctLd"
      },
      "source": [
        "## **Train Model**"
      ]
    },
    {
      "cell_type": "code",
      "metadata": {
        "id": "pMR7rGxacsOe"
      },
      "source": [
        "def train_model(weights, input, target, val_data, val_label, epochs, learning_rate):\n",
        "        \n",
        "    train_loss_list = list()\n",
        "    train_acc_list = list()\n",
        "    val_loss_list = list()\n",
        "    val_acc_list = list()\n",
        "\n",
        "    for k in range(1,epochs+1):\n",
        "        # print(\"\\n*********** Epoch\"+str(k)+\"***********\")\n",
        "        \n",
        "        ################## Neural Network #########################\n",
        "        A = forward(weights, input)           # feed forward\n",
        "        list_change_in_weights = back_propagate(A, target, weights, input)\n",
        "        weights = update_w(weights, list_change_in_weights, learning_rate)\n",
        "        \n",
        "        ################### Evaluation Train ############################\n",
        "        loss, acc = evaluate_model(weights, input, target)\n",
        "        train_loss_list.append(loss)\n",
        "        train_acc_list.append(acc)\n",
        "\n",
        "        ################### Evaluation Train ############################\n",
        "        val_loss, val_acc = evaluate_model(weights, val_data, val_label)\n",
        "        val_loss_list.append(val_loss)\n",
        "        val_acc_list.append(val_acc)\n",
        "\n",
        "    save_model( weights, './weights.pkl' )\n",
        "\n",
        "    return train_loss_list, train_acc_list, val_loss_list, val_acc_list\n",
        "    "
      ],
      "execution_count": 32,
      "outputs": []
    },
    {
      "cell_type": "markdown",
      "metadata": {
        "id": "MSvRbe_-c4N2"
      },
      "source": [
        "## **Testing Model**"
      ]
    },
    {
      "cell_type": "code",
      "metadata": {
        "id": "-DAI5uPscyY6"
      },
      "source": [
        "def test_model(trained_weights, test_data, test_label):\n",
        "    # test_label = test_label.reshape(-1,1)\n",
        "    A = forward(weights, test_data)    \n",
        "    pred = A[-1]    \n",
        "    loss = Cross_Entropy(pred, test_label)\n",
        "    pred[pred>=0.5] = 1\n",
        "    pred[pred<0.5] = 0\n",
        "    acc = accuracy(pred, test_label)\n",
        "    pred = pred.reshape(-1)\n",
        "    print( \"\\nTest Set Loss: \", loss )\n",
        "    print( \"Test Set Accuracy: {:.2f}\".format(acc * 100) )\n",
        "    print( \"\\nTrue Labels:\\n\",  test_label[:6] )\n",
        "    print( \"\\nPredicted Lables:\\n\", pred[:6] )\n"
      ],
      "execution_count": 33,
      "outputs": []
    },
    {
      "cell_type": "markdown",
      "metadata": {
        "id": "4EpSwQ7RfNkM"
      },
      "source": [
        "## ***Model Parameters***"
      ]
    },
    {
      "cell_type": "code",
      "metadata": {
        "id": "HWfdnYxBfSRZ"
      },
      "source": [
        "learning_rate = 0.0001\n",
        "epochs = 500\n",
        "input_size = 2\n",
        "output_size = 1\n",
        "no_of_neurons = [1]\n",
        "input = data\n",
        "target = label"
      ],
      "execution_count": 46,
      "outputs": []
    },
    {
      "cell_type": "markdown",
      "metadata": {
        "id": "Pz7vBSeydCNE"
      },
      "source": [
        "# ***Perform Training***"
      ]
    },
    {
      "cell_type": "code",
      "metadata": {
        "id": "BPKAhPyQc_9q"
      },
      "source": [
        "def run_training_model():\n",
        "\n",
        "    \n",
        "    # print(input[0].shape)\n",
        "\n",
        "    # x_train, y_train, x_val, y_val, x_test, y_test = load_data(input, target) \n",
        "\n",
        "    weights = initialize_weights(input_size,output_size,no_of_neurons)  #weights initialize\n",
        "\n",
        "    val_data, val_label, test_data, test_label = load_data(input, target)\n",
        "    # print(\"Train_data : \", input.shape)\n",
        "    # print(\"Train_label : \", target.shape)\n",
        "    # print(\"val_data : \", val_data.shape)\n",
        "    # print(\"Val_Label : \", val_label.shape)\n",
        "    # print(\"Test_data : \", test_data.shape)\n",
        "    # print(\"Test_Label : \", test_label.shape)\n",
        "    train_loss, train_acc, val_loss, val_acc = train_model(weights, input, target, \n",
        "                                                                val_data, val_label, epochs, learning_rate)\n",
        "\n",
        "    print(\"Training Loss : \", train_loss[-1])\n",
        "    print(\"Training Accuracy : \", train_acc[-1] * 100)\n",
        "    print(\"Validation Loss : \", val_loss[-1])\n",
        "    print(\"Validation Accuracy : \", val_acc[-1] * 100)\n",
        "\n",
        "    plt.plot(train_loss)\n",
        "    plt.plot(val_loss)\n",
        "    plt.xlabel(\"Number of Epochs\")\n",
        "    plt.ylabel(\"Loss\")\n",
        "    plt.title(\"Training and Validation Loss\", fontsize=12, fontweight=\"bold\")\n",
        "    plt.legend([\"Training Loss\", \"Validation Loss\"])\n",
        "    plt.savefig(\"train_loss.png\")\n",
        "    plt.show()\n",
        "\n",
        "    # plt.plot(val_loss)\n",
        "    # plt.show()\n",
        "\n",
        "    plt.plot(train_acc)\n",
        "    plt.plot(val_acc)\n",
        "    plt.xlabel(\"Number of Epochs\")\n",
        "    plt.ylabel(\"Accuracy\")\n",
        "    plt.title(\"Training and Validation Accuracy\", fontsize=12, fontweight=\"bold\")\n",
        "    plt.legend([\"Training Accuracy\", \"Validation Accuracy\"])\n",
        "    plt.savefig(\"train_accuracy.png\")\n",
        "    plt.show()\n",
        "\n",
        "# plt.plot(val_acc)\n",
        "# plt.show()\n"
      ],
      "execution_count": 39,
      "outputs": []
    },
    {
      "cell_type": "markdown",
      "metadata": {
        "id": "SfRSYNOWdSyl"
      },
      "source": [
        "# ***Perform Testing***"
      ]
    },
    {
      "cell_type": "code",
      "metadata": {
        "id": "UrdlMA5TdN_H"
      },
      "source": [
        "def run_testing_model():\n",
        "    trained_weights = load_model('./weights.pkl')\n",
        "    test_model(trained_weights, test_data, test_label)\n",
        "    "
      ],
      "execution_count": 36,
      "outputs": []
    },
    {
      "cell_type": "markdown",
      "metadata": {
        "id": "e3IE0lRFeTdA"
      },
      "source": [
        "## ***Main Function***"
      ]
    },
    {
      "cell_type": "code",
      "metadata": {
        "colab": {
          "base_uri": "https://localhost:8080/",
          "height": 794
        },
        "id": "FTckPNXkeSd-",
        "outputId": "a26554ef-dac4-487d-8f0c-d7f54e7d31f8"
      },
      "source": [
        "def Run_Complete_Model():\n",
        "    run_training_model()\n",
        "    run_testing_model()\n",
        "\n",
        "Run_Complete_Model()"
      ],
      "execution_count": 47,
      "outputs": [
        {
          "output_type": "stream",
          "text": [
            "Training Loss :  0.31899104152692337\n",
            "Training Accuracy :  99.97500000000001\n",
            "Validation Loss :  0.3212085806678003\n",
            "Validation Accuracy :  100.0\n"
          ],
          "name": "stdout"
        },
        {
          "output_type": "display_data",
          "data": {
            "image/png": "[encoded data removed]",
            "text/plain": [
              "<Figure size 432x288 with 1 Axes>"
            ]
          },
          "metadata": {
            "tags": [],
            "needs_background": "light"
          }
        },
        {
          "output_type": "display_data",
          "data": {
            "image/png": "[encoded data removed]",
            "text/plain": [
              "<Figure size 432x288 with 1 Axes>"
            ]
          },
          "metadata": {
            "tags": [],
            "needs_background": "light"
          }
        },
        {
          "output_type": "stream",
          "text": [
            "\n",
            "Test Set Loss:  0.01038139074761243\n",
            "Test Set Accuracy: 100.00\n",
            "\n",
            "True Labels:\n",
            " [0 0 0 0 0 1]\n",
            "\n",
            "Predicted Lables:\n",
            " [0. 0. 0. 0. 0. 1.]\n"
          ],
          "name": "stdout"
        }
      ]
    },
    {
      "cell_type": "code",
      "metadata": {
        "id": "lTYVNteS7OYZ"
      },
      "source": [
        ""
      ],
      "execution_count": null,
      "outputs": []
    }
  ]
}